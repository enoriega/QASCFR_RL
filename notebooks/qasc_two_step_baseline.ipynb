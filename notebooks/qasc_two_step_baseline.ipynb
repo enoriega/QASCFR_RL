{
 "cells": [
  {
   "cell_type": "markdown",
   "metadata": {
    "collapsed": true,
    "pycharm": {
     "name": "#%% md\n"
    }
   },
   "source": [
    "Baseline results for QASC two-step retrieval"
   ]
  },
  {
   "cell_type": "code",
   "source": [
    "import json\n",
    "\n",
    "file_path = '../data/dev.jsonl'\n",
    "\n",
    "with open(file_path) as f:\n",
    "    data = [json.loads(l) for l in f]\n",
    "\n",
    "# data[0]"
   ],
   "metadata": {
    "collapsed": false,
    "pycharm": {
     "name": "#%%\n"
    }
   },
   "execution_count": 39,
   "outputs": []
  },
  {
   "cell_type": "code",
   "execution_count": 40,
   "outputs": [],
   "source": [
    "from enum import Enum\n",
    "\n",
    "\n",
    "class RecallType(Enum):\n",
    "    Not = 0\n",
    "    Partial = 1\n",
    "    Total = 2\n",
    "\n",
    "def contains_at_k(instance, k):\n",
    "    # Get the correct choice\n",
    "    key = instance['answerKey']\n",
    "    choices = {c['label']:c['facts'] for c in instance['question']['choices']}\n",
    "    correct_choice = choices[key]\n",
    "    phrases = [f['text'] for f in correct_choice]\n",
    "\n",
    "    top_k = phrases[:k]\n",
    "    gt = {instance['fact1'], instance['fact2']}\n",
    "\n",
    "    counter = 0\n",
    "\n",
    "    for phrase in gt:\n",
    "        if phrase in top_k:\n",
    "            counter += 1\n",
    "\n",
    "    kind = RecallType(counter)\n",
    "\n",
    "    return kind"
   ],
   "metadata": {
    "collapsed": false,
    "pycharm": {
     "name": "#%%\n"
    }
   }
  },
  {
   "cell_type": "code",
   "execution_count": 41,
   "outputs": [],
   "source": [
    "def recall_at_k(data, k):\n",
    "    partial, total = 0., 0.\n",
    "    for instance in data:\n",
    "        kind = contains_at_k(instance, k)\n",
    "        if kind == RecallType.Partial:\n",
    "            partial += 1\n",
    "        elif kind == RecallType.Total:\n",
    "            total += 1\n",
    "            partial += 1\n",
    "\n",
    "    return partial / len(data), total / len(data)"
   ],
   "metadata": {
    "collapsed": false,
    "pycharm": {
     "name": "#%%\n"
    }
   }
  },
  {
   "cell_type": "code",
   "execution_count": 42,
   "outputs": [
    {
     "name": "stdout",
     "output_type": "stream",
     "text": [
      "0.7732181425485961 0.4632829373650108\n"
     ]
    }
   ],
   "source": [
    "# Example run\n",
    "partial, total = recall_at_k(data, 100)\n",
    "print(partial, total)"
   ],
   "metadata": {
    "collapsed": false,
    "pycharm": {
     "name": "#%%\n"
    }
   }
  },
  {
   "cell_type": "code",
   "execution_count": 43,
   "outputs": [
    {
     "name": "stderr",
     "output_type": "stream",
     "text": [
      "Computing recall: 100%|██████████| 10/10 [00:00<00:00, 127.68it/s]\n"
     ]
    }
   ],
   "source": [
    "from tqdm import tqdm\n",
    "\n",
    "support = list(range(10, 110, 10))\n",
    "partial, total = list(), list()\n",
    "for k in tqdm(support, desc=\"Computing recall\"):\n",
    "    p, t = recall_at_k(data, k)\n",
    "    partial.append(p)\n",
    "    total.append(t)"
   ],
   "metadata": {
    "collapsed": false,
    "pycharm": {
     "name": "#%%\n"
    }
   }
  },
  {
   "cell_type": "code",
   "execution_count": 44,
   "outputs": [
    {
     "data": {
      "text/plain": "Text(0.5, 1.0, 'Two-step IR based recall (dev)')"
     },
     "execution_count": 44,
     "metadata": {},
     "output_type": "execute_result"
    },
    {
     "data": {
      "text/plain": "<Figure size 432x288 with 1 Axes>",
      "image/png": "[encoded data removed]"
     },
     "metadata": {},
     "output_type": "display_data"
    }
   ],
   "source": [
    "from pathlib import Path\n",
    "from matplotlib import pyplot as plt\n",
    "import pandas as pd\n",
    "# Make the results a data frame for seaborn\n",
    "fr = pd.DataFrame({\"support\":support, \"partial\":partial, \"total\":total})\n",
    "import seaborn as sns\n",
    "\n",
    "# fr.head()\n",
    "sns.set_theme()\n",
    "g = sns.lineplot(data=fr, x='support', y='total', label=\"Full GT\")\n",
    "sns.lineplot(data=fr, x='support', y='partial', label=\"Partial GT\")\n",
    "g.set_ylim(0, 1.)\n",
    "g.legend()\n",
    "split_name = Path(file_path).name.removesuffix('.jsonl')\n",
    "g.set_title(f\"Two-step IR based recall ({split_name})\")"
   ],
   "metadata": {
    "collapsed": false,
    "pycharm": {
     "name": "#%%\n"
    }
   }
  }
 ],
 "metadata": {
  "kernelspec": {
   "display_name": "Python 3",
   "language": "python",
   "name": "python3"
  },
  "language_info": {
   "codemirror_mode": {
    "name": "ipython",
    "version": 2
   },
   "file_extension": ".py",
   "mimetype": "text/x-python",
   "name": "python",
   "nbconvert_exporter": "python",
   "pygments_lexer": "ipython2",
   "version": "2.7.6"
  }
 },
 "nbformat": 4,
 "nbformat_minor": 0
}