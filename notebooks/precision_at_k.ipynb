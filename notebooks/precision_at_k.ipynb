{
 "cells": [
  {
   "cell_type": "code",
   "execution_count": 8,
   "metadata": {
    "collapsed": true
   },
   "outputs": [],
   "source": [
    "import pickle\n",
    "\n",
    "\n",
    "\n",
    "with open('../retrieval_results3.pickle', 'rb') as f:\n",
    "    ir_data = pickle.load(f)"
   ]
  },
  {
   "cell_type": "code",
   "execution_count": 9,
   "outputs": [],
   "source": [
    "def flatten_pairs(pairs):\n",
    "    \"\"\" Takes a list of tuples with their IR score and returns\n",
    "        flattened list of sentences. First has the highest score\n",
    "    \"\"\"\n",
    "\n",
    "    seen = set() # Memory to keep track of seen sentences\n",
    "    ret = list()\n",
    "    for (f, s), _ in pairs:\n",
    "        if f not in seen:\n",
    "            ret.append(f)\n",
    "            seen.add(f)\n",
    "        if s not in seen:\n",
    "            ret.append(s)\n",
    "            seen.add(s)\n",
    "\n",
    "    return ret"
   ],
   "metadata": {
    "collapsed": false,
    "pycharm": {
     "name": "#%%\n"
    }
   }
  },
  {
   "cell_type": "code",
   "execution_count": 10,
   "outputs": [],
   "source": [
    "from enum import Enum\n",
    "\n",
    "\n",
    "class RecallType(Enum):\n",
    "    Not = 0\n",
    "    Partial = 1\n",
    "    Total = 2\n",
    "\n",
    "def contains_at_k(instance, pairs, k):\n",
    "    retrieved = set(flatten_pairs(pairs)[:k])\n",
    "\n",
    "    gt = instance.gt_path\n",
    "\n",
    "    counter = 0\n",
    "\n",
    "    for phrase in gt:\n",
    "        if phrase in retrieved:\n",
    "            counter += 1\n",
    "\n",
    "    kind = RecallType(counter)\n",
    "\n",
    "    return kind\n",
    "\n",
    "def contains_at_k_2(instance, hits, k):\n",
    "    retrieved = set([h.text for h in hits[:k]])\n",
    "\n",
    "    gt = instance.gt_path\n",
    "\n",
    "    counter = 0\n",
    "\n",
    "    for phrase in gt:\n",
    "        if phrase in retrieved:\n",
    "            counter += 1\n",
    "\n",
    "    kind = RecallType(counter)\n",
    "\n",
    "    return kind\n"
   ],
   "metadata": {
    "collapsed": false,
    "pycharm": {
     "name": "#%%\n"
    }
   }
  },
  {
   "cell_type": "code",
   "execution_count": 11,
   "outputs": [],
   "source": [
    "def recall_at_k(data, k):\n",
    "    partial, total = 0., 0.\n",
    "    for instance, pairs in data.items():\n",
    "        kind = contains_at_k(instance, pairs, k)\n",
    "        if kind == RecallType.Partial:\n",
    "            partial += 1\n",
    "        elif kind == RecallType.Total:\n",
    "            total += 1\n",
    "            partial += 1\n",
    "\n",
    "    return partial / len(data), total / len(data)"
   ],
   "metadata": {
    "collapsed": false,
    "pycharm": {
     "name": "#%%\n"
    }
   }
  },
  {
   "cell_type": "code",
   "execution_count": 12,
   "outputs": [
    {
     "name": "stdout",
     "output_type": "stream",
     "text": [
      "0.44639328063241107 0.10017292490118578\n"
     ]
    }
   ],
   "source": [
    "# Example run\n",
    "partial, total = recall_at_k(ir_data, 10)\n",
    "print(partial, total)"
   ],
   "metadata": {
    "collapsed": false,
    "pycharm": {
     "name": "#%%\n"
    }
   }
  },
  {
   "cell_type": "code",
   "execution_count": 13,
   "outputs": [
    {
     "name": "stderr",
     "output_type": "stream",
     "text": [
      "Computing recall: 100%|██████████| 10/10 [00:05<00:00,  1.91it/s]\n"
     ]
    }
   ],
   "source": [
    "from tqdm import tqdm\n",
    "\n",
    "support = list(range(10, 110, 10))\n",
    "partial, total = list(), list()\n",
    "for k in tqdm(support, desc=\"Computing recall\"):\n",
    "    p, t = recall_at_k(ir_data, k)\n",
    "    partial.append(p)\n",
    "    total.append(t)"
   ],
   "metadata": {
    "collapsed": false,
    "pycharm": {
     "name": "#%%\n"
    }
   }
  },
  {
   "cell_type": "code",
   "execution_count": 14,
   "outputs": [
    {
     "data": {
      "text/plain": "Text(0.5, 1.0, 'Two-step IR based recall')"
     },
     "execution_count": 14,
     "metadata": {},
     "output_type": "execute_result"
    },
    {
     "data": {
      "text/plain": "<Figure size 432x288 with 1 Axes>",
      "image/png": "[encoded data removed]"
     },
     "metadata": {},
     "output_type": "display_data"
    }
   ],
   "source": [
    "from matplotlib import pyplot as plt\n",
    "import pandas as pd\n",
    "# Make the results a data frame for seaborn\n",
    "fr = pd.DataFrame({\"support\":support, \"partial\":partial, \"total\":total})\n",
    "import seaborn as sns\n",
    "\n",
    "# fr.head()\n",
    "sns.set_theme()\n",
    "g = sns.lineplot(data=fr, x='support', y='total', label=\"Full GT\")\n",
    "sns.lineplot(data=fr, x='support', y='partial', label=\"Partial GT\")\n",
    "g.set_ylim(0, 1.)\n",
    "g.legend()\n",
    "g.set_title(\"Two-step IR based recall\")"
   ],
   "metadata": {
    "collapsed": false,
    "pycharm": {
     "name": "#%%\n"
    }
   }
  }
 ],
 "metadata": {
  "kernelspec": {
   "name": "python394jvsc74a57bd0c17b1daf6c4459401ae49eb121e1359d6a3eecbffc1ce96c68978a4b715a22da",
   "language": "python",
   "display_name": "Python 3.9.4 64-bit ('qascfr': conda)"
  },
  "language_info": {
   "codemirror_mode": {
    "name": "ipython",
    "version": 2
   },
   "file_extension": ".py",
   "mimetype": "text/x-python",
   "name": "python",
   "nbconvert_exporter": "python",
   "pygments_lexer": "ipython2",
   "version": "2.7.6"
  }
 },
 "nbformat": 4,
 "nbformat_minor": 0
}